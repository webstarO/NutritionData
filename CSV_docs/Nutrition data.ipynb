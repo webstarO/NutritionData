{
 "cells": [
  {
   "cell_type": "code",
   "execution_count": 1,
   "metadata": {},
   "outputs": [
    {
     "data": {
      "text/plain": [
       "'c:\\\\Users\\\\Webstar Ochieng\\\\Documents'"
      ]
     },
     "execution_count": 1,
     "metadata": {},
     "output_type": "execute_result"
    }
   ],
   "source": [
    "pwd"
   ]
  },
  {
   "cell_type": "code",
   "execution_count": 1,
   "metadata": {},
   "outputs": [],
   "source": [
    "#import the necessary modules\n",
    "import pandas as pd\n",
    "import numpy as np\n",
    "import seaborn as sns"
   ]
  },
  {
   "cell_type": "code",
   "execution_count": 7,
   "metadata": {},
   "outputs": [
    {
     "name": "stdout",
     "output_type": "stream",
     "text": [
      "Collecting pandas\n",
      "  Downloading pandas-1.5.3-cp311-cp311-win_amd64.whl (10.3 MB)\n",
      "     ---------------------------------------- 10.3/10.3 MB 6.7 MB/s eta 0:00:00\n",
      "Requirement already satisfied: python-dateutil>=2.8.1 in c:\\users\\webstar ochieng\\appdata\\roaming\\python\\python311\\site-packages (from pandas) (2.8.2)\n",
      "Collecting pytz>=2020.1\n",
      "  Downloading pytz-2022.7.1-py2.py3-none-any.whl (499 kB)\n",
      "     -------------------------------------- 499.4/499.4 kB 4.5 MB/s eta 0:00:00\n",
      "Collecting numpy>=1.21.0\n",
      "  Downloading numpy-1.24.2-cp311-cp311-win_amd64.whl (14.8 MB)\n",
      "     ---------------------------------------- 14.8/14.8 MB 5.4 MB/s eta 0:00:00\n",
      "Requirement already satisfied: six>=1.5 in c:\\users\\webstar ochieng\\appdata\\roaming\\python\\python311\\site-packages (from python-dateutil>=2.8.1->pandas) (1.16.0)\n",
      "Installing collected packages: pytz, numpy, pandas\n",
      "Successfully installed numpy-1.24.2 pandas-1.5.3 pytz-2022.7.1\n",
      "Note: you may need to restart the kernel to use updated packages.\n"
     ]
    },
    {
     "name": "stderr",
     "output_type": "stream",
     "text": [
      "\n",
      "[notice] A new release of pip available: 22.3.1 -> 23.0\n",
      "[notice] To update, run: python.exe -m pip install --upgrade pip\n"
     ]
    }
   ],
   "source": [
    "#install pandas (it was not installed)\n",
    "pip install pandas --upgrade"
   ]
  },
  {
   "cell_type": "code",
   "execution_count": 8,
   "metadata": {},
   "outputs": [
    {
     "name": "stdout",
     "output_type": "stream",
     "text": [
      "Requirement already satisfied: pip in c:\\users\\webstar ochieng\\appdata\\local\\programs\\python\\python311\\lib\\site-packages (22.3.1)\n",
      "Collecting pip\n",
      "  Downloading pip-23.0.1-py3-none-any.whl (2.1 MB)\n",
      "     ---------------------------------------- 2.1/2.1 MB 4.2 MB/s eta 0:00:00\n",
      "Installing collected packages: pip\n",
      "  Attempting uninstall: pip\n",
      "    Found existing installation: pip 22.3.1\n",
      "    Uninstalling pip-22.3.1:\n",
      "      Successfully uninstalled pip-22.3.1\n",
      "Successfully installed pip-23.0.1\n",
      "Note: you may need to restart the kernel to use updated packages.\n"
     ]
    }
   ],
   "source": [
    "#upgrade pandas\n",
    "pip install --upgrade pip"
   ]
  },
  {
   "cell_type": "code",
   "execution_count": 9,
   "metadata": {},
   "outputs": [
    {
     "data": {
      "text/plain": [
       "'CSV_docs/'"
      ]
     },
     "execution_count": 9,
     "metadata": {},
     "output_type": "execute_result"
    }
   ],
   "source": [
    "#opening the CSV doc\n",
    "'CSV_docs/'"
   ]
  },
  {
   "cell_type": "code",
   "execution_count": 3,
   "metadata": {},
   "outputs": [],
   "source": [
    "#create your dataframe\n",
    "df = pd.read_csv(\"CSV_docs/Nutrition__Physical_Activity__and_Obesity.csv\")"
   ]
  },
  {
   "cell_type": "code",
   "execution_count": 4,
   "metadata": {},
   "outputs": [
    {
     "data": {
      "text/plain": [
       "<bound method NDFrame.head of        YearStart  YearEnd LocationAbbr  LocationDesc  \\\n",
       "0           2020     2020           US      National   \n",
       "1           2014     2014           GU          Guam   \n",
       "2           2013     2013           US      National   \n",
       "3           2013     2013           US      National   \n",
       "4           2015     2015           US      National   \n",
       "...          ...      ...          ...           ...   \n",
       "88624       2021     2021           ND  North Dakota   \n",
       "88625       2021     2021           PR   Puerto Rico   \n",
       "88626       2021     2021           WI     Wisconsin   \n",
       "88627       2021     2021           UT          Utah   \n",
       "88628       2021     2021           US      National   \n",
       "\n",
       "                                       Datasource                    Class  \\\n",
       "0      Behavioral Risk Factor Surveillance System        Physical Activity   \n",
       "1      Behavioral Risk Factor Surveillance System  Obesity / Weight Status   \n",
       "2      Behavioral Risk Factor Surveillance System  Obesity / Weight Status   \n",
       "3      Behavioral Risk Factor Surveillance System  Obesity / Weight Status   \n",
       "4      Behavioral Risk Factor Surveillance System        Physical Activity   \n",
       "...                                           ...                      ...   \n",
       "88624  Behavioral Risk Factor Surveillance System    Fruits and Vegetables   \n",
       "88625  Behavioral Risk Factor Surveillance System        Physical Activity   \n",
       "88626  Behavioral Risk Factor Surveillance System        Physical Activity   \n",
       "88627  Behavioral Risk Factor Surveillance System    Fruits and Vegetables   \n",
       "88628  Behavioral Risk Factor Surveillance System        Physical Activity   \n",
       "\n",
       "                                  Topic  \\\n",
       "0          Physical Activity - Behavior   \n",
       "1               Obesity / Weight Status   \n",
       "2               Obesity / Weight Status   \n",
       "3               Obesity / Weight Status   \n",
       "4          Physical Activity - Behavior   \n",
       "...                                 ...   \n",
       "88624  Fruits and Vegetables - Behavior   \n",
       "88625      Physical Activity - Behavior   \n",
       "88626      Physical Activity - Behavior   \n",
       "88627  Fruits and Vegetables - Behavior   \n",
       "88628      Physical Activity - Behavior   \n",
       "\n",
       "                                                Question  Data_Value_Unit  \\\n",
       "0      Percent of adults who engage in no leisure-tim...              NaN   \n",
       "1      Percent of adults aged 18 years and older who ...              NaN   \n",
       "2      Percent of adults aged 18 years and older who ...              NaN   \n",
       "3      Percent of adults aged 18 years and older who ...              NaN   \n",
       "4      Percent of adults who achieve at least 300 min...              NaN   \n",
       "...                                                  ...              ...   \n",
       "88624  Percent of adults who report consuming vegetab...              NaN   \n",
       "88625  Percent of adults who engage in no leisure-tim...              NaN   \n",
       "88626  Percent of adults who engage in no leisure-tim...              NaN   \n",
       "88627  Percent of adults who report consuming fruit l...              NaN   \n",
       "88628  Percent of adults who engage in no leisure-tim...              NaN   \n",
       "\n",
       "      Data_Value_Type  ...                                GeoLocation  \\\n",
       "0               Value  ...                                        NaN   \n",
       "1               Value  ...                    (13.444304, 144.793731)   \n",
       "2               Value  ...                                        NaN   \n",
       "3               Value  ...                                        NaN   \n",
       "4               Value  ...                                        NaN   \n",
       "...               ...  ...                                        ...   \n",
       "88624           Value  ...   (47.47531977900047, -100.11842104899966)   \n",
       "88625           Value  ...                    (18.220833, -66.590149)   \n",
       "88626           Value  ...    (44.39319117400049, -89.81637074199966)   \n",
       "88627           Value  ...  (39.360700171000474, -111.58713063499971)   \n",
       "88628           Value  ...                                        NaN   \n",
       "\n",
       "       ClassID TopicID QuestionID  DataValueTypeID  LocationID  \\\n",
       "0           PA     PA1       Q047            VALUE          59   \n",
       "1          OWS    OWS1       Q036            VALUE          66   \n",
       "2          OWS    OWS1       Q036            VALUE          59   \n",
       "3          OWS    OWS1       Q037            VALUE          59   \n",
       "4           PA     PA1       Q045            VALUE          59   \n",
       "...        ...     ...        ...              ...         ...   \n",
       "88624       FV     FV1       Q019            VALUE          38   \n",
       "88625       PA     PA1       Q047            VALUE          72   \n",
       "88626       PA     PA1       Q047            VALUE          55   \n",
       "88627       FV     FV1       Q018            VALUE          49   \n",
       "88628       PA     PA1       Q047            VALUE          59   \n",
       "\n",
       "       StratificationCategory1       Stratification1  \\\n",
       "0               Race/Ethnicity              Hispanic   \n",
       "1                    Education  High school graduate   \n",
       "2                       Income     $50,000 - $74,999   \n",
       "3                       Income     Data not reported   \n",
       "4                       Income     Less than $15,000   \n",
       "...                        ...                   ...   \n",
       "88624                   Gender                  Male   \n",
       "88625                   Income     $35,000 - $49,999   \n",
       "88626                   Income    $75,000 or greater   \n",
       "88627                   Income     $50,000 - $74,999   \n",
       "88628                   Income     Data not reported   \n",
       "\n",
       "      StratificationCategoryId1 StratificationID1  \n",
       "0                          RACE           RACEHIS  \n",
       "1                           EDU         EDUHSGRAD  \n",
       "2                           INC           INC5075  \n",
       "3                           INC             INCNR  \n",
       "4                           INC         INCLESS15  \n",
       "...                         ...               ...  \n",
       "88624                       GEN              MALE  \n",
       "88625                       INC           INC3550  \n",
       "88626                       INC         INC75PLUS  \n",
       "88627                       INC           INC5075  \n",
       "88628                       INC             INCNR  \n",
       "\n",
       "[88629 rows x 33 columns]>"
      ]
     },
     "execution_count": 4,
     "metadata": {},
     "output_type": "execute_result"
    }
   ],
   "source": [
    "#describe the data\n",
    "df.head"
   ]
  },
  {
   "cell_type": "code",
   "execution_count": 5,
   "metadata": {},
   "outputs": [
    {
     "data": {
      "text/plain": [
       "YearStart                       int64\n",
       "YearEnd                         int64\n",
       "LocationAbbr                   object\n",
       "LocationDesc                   object\n",
       "Datasource                     object\n",
       "Class                          object\n",
       "Topic                          object\n",
       "Question                       object\n",
       "Data_Value_Unit               float64\n",
       "Data_Value_Type                object\n",
       "Data_Value                    float64\n",
       "Data_Value_Alt                float64\n",
       "Data_Value_Footnote_Symbol     object\n",
       "Data_Value_Footnote            object\n",
       "Low_Confidence_Limit          float64\n",
       "High_Confidence_Limit         float64\n",
       "Sample_Size                   float64\n",
       "Total                          object\n",
       "Age(years)                     object\n",
       "Education                      object\n",
       "Gender                         object\n",
       "Income                         object\n",
       "Race/Ethnicity                 object\n",
       "GeoLocation                    object\n",
       "ClassID                        object\n",
       "TopicID                        object\n",
       "QuestionID                     object\n",
       "DataValueTypeID                object\n",
       "LocationID                      int64\n",
       "StratificationCategory1        object\n",
       "Stratification1                object\n",
       "StratificationCategoryId1      object\n",
       "StratificationID1              object\n",
       "dtype: object"
      ]
     },
     "execution_count": 5,
     "metadata": {},
     "output_type": "execute_result"
    }
   ],
   "source": [
    "#Get datatype for dataset\n",
    "df.dtypes"
   ]
  },
  {
   "cell_type": "code",
   "execution_count": 10,
   "metadata": {},
   "outputs": [],
   "source": [
    "#find and remove all null values\n",
    "df.isnull().sum()\n",
    "df1 = df.dropna()"
   ]
  },
  {
   "cell_type": "code",
   "execution_count": 12,
   "metadata": {},
   "outputs": [
    {
     "name": "stdout",
     "output_type": "stream",
     "text": [
      "Empty DataFrame\n",
      "Columns: [YearStart, YearEnd, LocationAbbr, LocationDesc, Datasource, Class, Topic, Question, Data_Value_Unit, Data_Value_Type, Data_Value, Data_Value_Alt, Data_Value_Footnote_Symbol, Data_Value_Footnote, Low_Confidence_Limit, High_Confidence_Limit , Sample_Size, Total, Age(years), Education, Gender, Income, Race/Ethnicity, GeoLocation, ClassID, TopicID, QuestionID, DataValueTypeID, LocationID, StratificationCategory1, Stratification1, StratificationCategoryId1, StratificationID1]\n",
      "Index: []\n",
      "\n",
      "[0 rows x 33 columns]\n"
     ]
    }
   ],
   "source": [
    "print(df1)"
   ]
  },
  {
   "cell_type": "code",
   "execution_count": 13,
   "metadata": {},
   "outputs": [
    {
     "data": {
      "text/plain": [
       "YearStart                     0.0\n",
       "YearEnd                       0.0\n",
       "LocationAbbr                  0.0\n",
       "LocationDesc                  0.0\n",
       "Datasource                    0.0\n",
       "Class                         0.0\n",
       "Topic                         0.0\n",
       "Question                      0.0\n",
       "Data_Value_Unit               0.0\n",
       "Data_Value_Type               0.0\n",
       "Data_Value                    0.0\n",
       "Data_Value_Alt                0.0\n",
       "Data_Value_Footnote_Symbol    0.0\n",
       "Data_Value_Footnote           0.0\n",
       "Low_Confidence_Limit          0.0\n",
       "High_Confidence_Limit         0.0\n",
       "Sample_Size                   0.0\n",
       "Total                         0.0\n",
       "Age(years)                    0.0\n",
       "Education                     0.0\n",
       "Gender                        0.0\n",
       "Income                        0.0\n",
       "Race/Ethnicity                0.0\n",
       "GeoLocation                   0.0\n",
       "ClassID                       0.0\n",
       "TopicID                       0.0\n",
       "QuestionID                    0.0\n",
       "DataValueTypeID               0.0\n",
       "LocationID                    0.0\n",
       "StratificationCategory1       0.0\n",
       "Stratification1               0.0\n",
       "StratificationCategoryId1     0.0\n",
       "StratificationID1             0.0\n",
       "dtype: float64"
      ]
     },
     "execution_count": 13,
     "metadata": {},
     "output_type": "execute_result"
    }
   ],
   "source": [
    "df1.isnull().sum()"
   ]
  }
 ],
 "metadata": {
  "kernelspec": {
   "display_name": "base",
   "language": "python",
   "name": "python3"
  },
  "language_info": {
   "codemirror_mode": {
    "name": "ipython",
    "version": 3
   },
   "file_extension": ".py",
   "mimetype": "text/x-python",
   "name": "python",
   "nbconvert_exporter": "python",
   "pygments_lexer": "ipython3",
   "version": "3.9.13"
  },
  "orig_nbformat": 4,
  "vscode": {
   "interpreter": {
    "hash": "64a340e5bae025ac69b9cc8853b88a556e557146fe263cc3e955cd3e7b2d5314"
   }
  }
 },
 "nbformat": 4,
 "nbformat_minor": 2
}
